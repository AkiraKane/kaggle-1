{
  "nbformat": 4,
  "nbformat_minor": 0,
  "metadata": {
    "colab": {
      "name": "iMaterialist_VGGNet.ipynb",
      "version": "0.3.2",
      "views": {},
      "default_view": {},
      "provenance": [],
      "collapsed_sections": []
    },
    "kernelspec": {
      "name": "python3",
      "display_name": "Python 3"
    },
    "accelerator": "GPU"
  },
  "cells": [
    {
      "metadata": {
        "id": "Nk1RkNHTRW6e",
        "colab_type": "code",
        "colab": {
          "autoexec": {
            "startup": false,
            "wait_interval": 0
          }
        }
      },
      "cell_type": "code",
      "source": [
        "!kill -9 -1"
      ],
      "execution_count": 0,
      "outputs": []
    },
    {
      "metadata": {
        "id": "tKjjLiPp2yxs",
        "colab_type": "text"
      },
      "cell_type": "markdown",
      "source": [
        "# **Access Colaboratory**"
      ]
    },
    {
      "metadata": {
        "id": "IG_MKc_yu8lo",
        "colab_type": "code",
        "colab": {
          "autoexec": {
            "startup": false,
            "wait_interval": 0
          }
        }
      },
      "cell_type": "code",
      "source": [
        "!apt-get install -y -qq software-properties-common python-software-properties module-init-tools\n",
        "!add-apt-repository -y ppa:alessandro-strada/ppa 2>&1 > /dev/null\n",
        "!apt-get update -qq 2>&1 > /dev/null\n",
        "!apt-get -y install -qq google-drive-ocamlfuse fuse"
      ],
      "execution_count": 0,
      "outputs": []
    },
    {
      "metadata": {
        "id": "vyRBNYNQwMUb",
        "colab_type": "code",
        "colab": {
          "autoexec": {
            "startup": false,
            "wait_interval": 0
          },
          "base_uri": "https://localhost:8080/",
          "height": 105
        },
        "outputId": "82fe1b33-4458-4a77-e894-e592771ccfff",
        "executionInfo": {
          "status": "ok",
          "timestamp": 1523467381430,
          "user_tz": 420,
          "elapsed": 13897,
          "user": {
            "displayName": "david molina",
            "photoUrl": "//lh4.googleusercontent.com/-moEmUQVvimM/AAAAAAAAAAI/AAAAAAAAAA8/bAlFHmGopcQ/s50-c-k-no/photo.jpg",
            "userId": "116964020357323062668"
          }
        }
      },
      "cell_type": "code",
      "source": [
        "from google.colab import auth\n",
        "auth.authenticate_user()\n",
        "\n",
        "from oauth2client.client import GoogleCredentials\n",
        "creds = GoogleCredentials.get_application_default()\n",
        "\n",
        "import getpass\n",
        "!google-drive-ocamlfuse -headless -id={creds.client_id} -secret={creds.client_secret} < /dev/null 2>&1 | grep URL\n",
        "vcode = getpass.getpass()\n",
        "!echo {vcode} | google-drive-ocamlfuse -headless -id={creds.client_id} -secret={creds.client_secret}"
      ],
      "execution_count": 2,
      "outputs": [
        {
          "output_type": "stream",
          "text": [
            "Please, open the following URL in a web browser: https://accounts.google.com/o/oauth2/auth?client_id=32555940559.apps.googleusercontent.com&redirect_uri=urn%3Aietf%3Awg%3Aoauth%3A2.0%3Aoob&scope=https%3A%2F%2Fwww.googleapis.com%2Fauth%2Fdrive&response_type=code&access_type=offline&approval_prompt=force\r\n",
            "··········\n",
            "Please, open the following URL in a web browser: https://accounts.google.com/o/oauth2/auth?client_id=32555940559.apps.googleusercontent.com&redirect_uri=urn%3Aietf%3Awg%3Aoauth%3A2.0%3Aoob&scope=https%3A%2F%2Fwww.googleapis.com%2Fauth%2Fdrive&response_type=code&access_type=offline&approval_prompt=force\n",
            "Please enter the verification code: Access token retrieved correctly.\n"
          ],
          "name": "stdout"
        }
      ]
    },
    {
      "metadata": {
        "id": "-oeJ3oDhvD3r",
        "colab_type": "code",
        "colab": {
          "autoexec": {
            "startup": false,
            "wait_interval": 0
          }
        }
      },
      "cell_type": "code",
      "source": [
        "!mkdir -p drive\n",
        "!google-drive-ocamlfuse drive"
      ],
      "execution_count": 0,
      "outputs": []
    },
    {
      "metadata": {
        "id": "HsV5-zDayKDu",
        "colab_type": "code",
        "colab": {
          "autoexec": {
            "startup": false,
            "wait_interval": 0
          },
          "base_uri": "https://localhost:8080/",
          "height": 51
        },
        "outputId": "21fafa02-edd1-43ec-fa3b-acb10fa1edae",
        "executionInfo": {
          "status": "ok",
          "timestamp": 1523467390668,
          "user_tz": 420,
          "elapsed": 3342,
          "user": {
            "displayName": "david molina",
            "photoUrl": "//lh4.googleusercontent.com/-moEmUQVvimM/AAAAAAAAAAI/AAAAAAAAAA8/bAlFHmGopcQ/s50-c-k-no/photo.jpg",
            "userId": "116964020357323062668"
          }
        }
      },
      "cell_type": "code",
      "source": [
        "!ls\n",
        "!ls drive"
      ],
      "execution_count": 4,
      "outputs": [
        {
          "output_type": "stream",
          "text": [
            "datalab  drive\n",
            "Colab Notebooks  Colaboratory  iMaterialist  Project Design.odt\n"
          ],
          "name": "stdout"
        }
      ]
    },
    {
      "metadata": {
        "id": "Ji4L-vbo284T",
        "colab_type": "text"
      },
      "cell_type": "markdown",
      "source": [
        "# **Libraries**"
      ]
    },
    {
      "metadata": {
        "id": "whgAR5VjynsP",
        "colab_type": "code",
        "colab": {
          "autoexec": {
            "startup": false,
            "wait_interval": 0
          },
          "base_uri": "https://localhost:8080/",
          "height": 34
        },
        "outputId": "d6eda541-af7d-448d-9dc0-92e4fe2cb3cf",
        "executionInfo": {
          "status": "ok",
          "timestamp": 1523467398103,
          "user_tz": 420,
          "elapsed": 6163,
          "user": {
            "displayName": "david molina",
            "photoUrl": "//lh4.googleusercontent.com/-moEmUQVvimM/AAAAAAAAAAI/AAAAAAAAAA8/bAlFHmGopcQ/s50-c-k-no/photo.jpg",
            "userId": "116964020357323062668"
          }
        }
      },
      "cell_type": "code",
      "source": [
        "import h5py, json, time, os\n",
        "import cv2, numpy as np\n",
        "\n",
        "from keras.models import Sequential\n",
        "from keras.layers.core import Flatten, Dense, Dropout\n",
        "from keras.layers.convolutional import Convolution2D, MaxPooling2D, ZeroPadding2D\n",
        "from keras.optimizers import SGD\n",
        "\n",
        "from matplotlib import pyplot as plt\n",
        "\n",
        "from keras.utils import np_utils\n",
        "\n",
        "%matplotlib inline\n",
        "\n",
        "from keras import backend as K\n",
        "\n",
        "K.set_image_dim_ordering('tf')"
      ],
      "execution_count": 5,
      "outputs": [
        {
          "output_type": "stream",
          "text": [
            "Using TensorFlow backend.\n"
          ],
          "name": "stderr"
        }
      ]
    },
    {
      "metadata": {
        "id": "-obrt1l_8kYQ",
        "colab_type": "text"
      },
      "cell_type": "markdown",
      "source": [
        "## Load Classes"
      ]
    },
    {
      "metadata": {
        "id": "UDUTQf6w9OIv",
        "colab_type": "code",
        "colab": {
          "autoexec": {
            "startup": false,
            "wait_interval": 0
          }
        }
      },
      "cell_type": "code",
      "source": [
        "os.chdir('/content/drive')"
      ],
      "execution_count": 0,
      "outputs": []
    },
    {
      "metadata": {
        "id": "ck4js6AoyyWz",
        "colab_type": "code",
        "colab": {
          "autoexec": {
            "startup": false,
            "wait_interval": 0
          },
          "base_uri": "https://localhost:8080/",
          "height": 34
        },
        "outputId": "5f1ccf4b-8d1c-4fe2-d7d2-621ff34293fa",
        "executionInfo": {
          "status": "ok",
          "timestamp": 1523467405007,
          "user_tz": 420,
          "elapsed": 1317,
          "user": {
            "displayName": "david molina",
            "photoUrl": "//lh4.googleusercontent.com/-moEmUQVvimM/AAAAAAAAAAI/AAAAAAAAAA8/bAlFHmGopcQ/s50-c-k-no/photo.jpg",
            "userId": "116964020357323062668"
          }
        }
      },
      "cell_type": "code",
      "source": [
        "test_path=\"iMaterialist/validation_dataset/\"\n",
        "test_dataset_name = 'validation_last'\n",
        "with h5py.File(test_path+'{}_labels.h5'.format(test_dataset_name), 'r') as hf:\n",
        "    test_set_y_orig = np.array(hf['{}_labels'.format(test_dataset_name)][:])\n",
        "\n",
        "classes = []\n",
        "for i in range (1,len(test_set_y_orig)):\n",
        "    if test_set_y_orig[i] not in classes:\n",
        "        classes.append(test_set_y_orig[i])\n",
        "\n",
        "classes = np.array(classes) # the list of classes\n",
        "\n",
        "print(classes.shape)\n",
        "\n",
        "test_set_y_orig = None"
      ],
      "execution_count": 7,
      "outputs": [
        {
          "output_type": "stream",
          "text": [
            "(128,)\n"
          ],
          "name": "stdout"
        }
      ]
    },
    {
      "metadata": {
        "id": "pF5AmvtS894g",
        "colab_type": "text"
      },
      "cell_type": "markdown",
      "source": [
        "## Time"
      ]
    },
    {
      "metadata": {
        "id": "n8Dlq0E29BJP",
        "colab_type": "code",
        "colab": {
          "autoexec": {
            "startup": false,
            "wait_interval": 0
          }
        }
      },
      "cell_type": "code",
      "source": [
        "def elapsed(start):\n",
        "    \"\"\"\n",
        "    Returns elapsed time in hh:mm:ss format from start time in unix format\n",
        "    \"\"\"\n",
        "    elapsed = time.time()-start\n",
        "    hours, rem = divmod(elapsed, 3600)\n",
        "    minutes, seconds = divmod(rem, 60)\n",
        "    return(\"{:0>2}:{:0>2}:{:05.2f}\".format(int(hours),int(minutes),seconds))"
      ],
      "execution_count": 0,
      "outputs": []
    },
    {
      "metadata": {
        "id": "aM7_Pe088UC0",
        "colab_type": "text"
      },
      "cell_type": "markdown",
      "source": [
        "# **Load DataSets**"
      ]
    },
    {
      "metadata": {
        "id": "bCqf5je25sTj",
        "colab_type": "code",
        "colab": {
          "autoexec": {
            "startup": false,
            "wait_interval": 0
          }
        }
      },
      "cell_type": "code",
      "source": [
        "def load_trainDS(train_path, train_dataset_name, batch_size=1000):\n",
        "    #train_path=\"iMaterialist/train_dataset/\"\n",
        "    #train_dataset_name = 'train_1'\n",
        "\n",
        "    # Train dataset\n",
        "    with h5py.File(train_path+'{}_images.h5'.format(train_dataset_name), 'r') as hf:\n",
        "        train_set_x_orig = np.array(hf['{}_images'.format(train_dataset_name)][batch_size-1000:batch_size])   \n",
        "    with h5py.File(train_path+'{}_labels.h5'.format(train_dataset_name), 'r') as hf:\n",
        "        train_set_y_orig = np.array(hf['{}_labels'.format(train_dataset_name)][batch_size-1000:batch_size])\n",
        "\n",
        "    train_set_y_orig = train_set_y_orig.reshape((1, train_set_y_orig.shape[0]))\n",
        "    \n",
        "    return train_set_x_orig, train_set_y_orig"
      ],
      "execution_count": 0,
      "outputs": []
    },
    {
      "metadata": {
        "id": "exPSTzhI7UH-",
        "colab_type": "code",
        "colab": {
          "autoexec": {
            "startup": false,
            "wait_interval": 0
          }
        }
      },
      "cell_type": "code",
      "source": [
        "def load_testDS(test_path, test_dataset_name, batch_size=1000):\n",
        "    #test_path=\"iMaterialist/validation_dataset/\"\n",
        "    #test_dataset_name = 'validation_last'\n",
        "\n",
        "    # Test dataset (validation)\n",
        "    with h5py.File(test_path+'{}_images.h5'.format(test_dataset_name), 'r') as hf:\n",
        "        test_set_x_orig = np.array(hf['{}_images'.format(test_dataset_name)][batch_size-1000:batch_size])   \n",
        "    with h5py.File(test_path+'{}_labels.h5'.format(test_dataset_name), 'r') as hf:\n",
        "        test_set_y_orig = np.array(hf['{}_labels'.format(test_dataset_name)][batch_size-1000:batch_size])\n",
        "\n",
        "    test_set_y_orig = test_set_y_orig.reshape((1, test_set_y_orig.shape[0]))\n",
        "    \n",
        "    return test_set_x_orig, test_set_y_orig"
      ],
      "execution_count": 0,
      "outputs": []
    },
    {
      "metadata": {
        "id": "9G8km8YwZzMN",
        "colab_type": "code",
        "colab": {
          "autoexec": {
            "startup": false,
            "wait_interval": 0
          }
        },
        "cellView": "both"
      },
      "cell_type": "code",
      "source": [
        ""
      ],
      "execution_count": 0,
      "outputs": []
    },
    {
      "metadata": {
        "id": "DBVq076t037y",
        "colab_type": "code",
        "colab": {
          "autoexec": {
            "startup": false,
            "wait_interval": 0
          },
          "base_uri": "https://localhost:8080/",
          "height": 68
        },
        "outputId": "1846bf22-1133-4ef2-efc6-d0c90ff3c849",
        "executionInfo": {
          "status": "ok",
          "timestamp": 1523467424917,
          "user_tz": 420,
          "elapsed": 1485,
          "user": {
            "displayName": "david molina",
            "photoUrl": "//lh4.googleusercontent.com/-moEmUQVvimM/AAAAAAAAAAI/AAAAAAAAAA8/bAlFHmGopcQ/s50-c-k-no/photo.jpg",
            "userId": "116964020357323062668"
          }
        }
      },
      "cell_type": "code",
      "source": [
        "!free -m"
      ],
      "execution_count": 12,
      "outputs": [
        {
          "output_type": "stream",
          "text": [
            "              total        used        free      shared  buff/cache   available\r\n",
            "Mem:          13029         479        4718         220        7830       12081\r\n",
            "Swap:             0           0           0\r\n"
          ],
          "name": "stdout"
        }
      ]
    },
    {
      "metadata": {
        "id": "eE-RDxClQI9-",
        "colab_type": "code",
        "colab": {
          "autoexec": {
            "startup": false,
            "wait_interval": 0
          }
        }
      },
      "cell_type": "code",
      "source": [
        "#https://gist.github.com/baraldilorenzo/07d7802847aaad0a35d3\n",
        "def VGG_16(weights_path=None):\n",
        "  \n",
        "  model = Sequential()\n",
        "  model.add(ZeroPadding2D((1,1),input_shape=(224,224,3)))\n",
        "  model.add(Convolution2D(64, (3, 3), activation='relu', name='conv1_1'))\n",
        "  model.add(ZeroPadding2D((1,1)))\n",
        "  model.add(Convolution2D(64, (3, 3), activation='relu', name='conv1_2'))\n",
        "  model.add(MaxPooling2D((2,2), strides=(2,2)))\n",
        "\n",
        "  model.add(ZeroPadding2D((1,1)))\n",
        "  model.add(Convolution2D(128, (3, 3), activation='relu', name='conv2_1'))\n",
        "  model.add(ZeroPadding2D((1,1)))\n",
        "  model.add(Convolution2D(128, (3, 3), activation='relu', name='conv2_2'))\n",
        "  model.add(MaxPooling2D((2,2), strides=(2,2)))\n",
        "\n",
        "  model.add(ZeroPadding2D((1,1)))\n",
        "  model.add(Convolution2D(256, (3, 3), activation='relu', name='conv3_1'))\n",
        "  model.add(ZeroPadding2D((1,1)))\n",
        "  model.add(Convolution2D(256, (3, 3), activation='relu', name='conv3_2'))\n",
        "  model.add(ZeroPadding2D((1,1)))\n",
        "  model.add(Convolution2D(256, (3, 3), activation='relu', name='conv3_3'))\n",
        "  model.add(MaxPooling2D((2,2), strides=(2,2)))\n",
        "\n",
        "  model.add(ZeroPadding2D((1,1)))\n",
        "  model.add(Convolution2D(512, (3, 3), activation='relu', name='conv4_1'))\n",
        "  model.add(ZeroPadding2D((1,1)))\n",
        "  model.add(Convolution2D(512, (3, 3), activation='relu', name='conv4_2'))\n",
        "  model.add(ZeroPadding2D((1,1)))\n",
        "  model.add(Convolution2D(512, (3, 3), activation='relu', name='conv4_3'))\n",
        "  model.add(MaxPooling2D((2,2), strides=(2,2)))\n",
        "\n",
        "  model.add(ZeroPadding2D((1,1)))\n",
        "  model.add(Convolution2D(512, (3, 3), activation='relu', name='conv5_1'))\n",
        "  model.add(ZeroPadding2D((1,1)))\n",
        "  model.add(Convolution2D(512, (3, 3), activation='relu', name='conv5_2'))\n",
        "  model.add(ZeroPadding2D((1,1)))\n",
        "  model.add(Convolution2D(512, (3, 3), activation='relu', name='conv5_3'))\n",
        "  model.add(MaxPooling2D((2,2), strides=(2,2)))\n",
        "\n",
        "  model.add(Flatten())\n",
        "  model.add(Dense(4096, activation='relu'))\n",
        "  model.add(Dropout(0.5))\n",
        "  model.add(Dense(4096, activation='relu'))\n",
        "  model.add(Dropout(0.5))\n",
        "  model.add(Dense(129, activation='softmax', name='predict'))\n",
        "\n",
        "  if weights_path:\n",
        "    model.load_weights(weights_path)\n",
        "  \n",
        "  return model"
      ],
      "execution_count": 0,
      "outputs": []
    },
    {
      "metadata": {
        "id": "XStzwifmS9NY",
        "colab_type": "code",
        "colab": {
          "autoexec": {
            "startup": false,
            "wait_interval": 0
          },
          "base_uri": "https://localhost:8080/",
          "height": 1394
        },
        "outputId": "cf22b781-8a4d-4c90-f376-bb328bbd8e21",
        "executionInfo": {
          "status": "ok",
          "timestamp": 1523468823106,
          "user_tz": 420,
          "elapsed": 669,
          "user": {
            "displayName": "david molina",
            "photoUrl": "//lh4.googleusercontent.com/-moEmUQVvimM/AAAAAAAAAAI/AAAAAAAAAA8/bAlFHmGopcQ/s50-c-k-no/photo.jpg",
            "userId": "116964020357323062668"
          }
        }
      },
      "cell_type": "code",
      "source": [
        "#weights_path = 'Colaboratory/iMaterialist/vgg16_weights.h5'\n",
        "model = VGG_16()\n",
        "\n",
        "sgd = SGD(lr=0.5, decay=1e-6, momentum=0.9, nesterov=True)\n",
        "model.compile(optimizer=sgd, loss='categorical_crossentropy')\n",
        "\n",
        "#model.compile(loss='categorical_crossentropy', optimizer='adam', metrics=['accuracy'])\n",
        "model.summary()"
      ],
      "execution_count": 19,
      "outputs": [
        {
          "output_type": "stream",
          "text": [
            "_________________________________________________________________\n",
            "Layer (type)                 Output Shape              Param #   \n",
            "=================================================================\n",
            "zero_padding2d_27 (ZeroPaddi (None, 302, 302, 3)       0         \n",
            "_________________________________________________________________\n",
            "conv1_1 (Conv2D)             (None, 300, 300, 64)      1792      \n",
            "_________________________________________________________________\n",
            "zero_padding2d_28 (ZeroPaddi (None, 302, 302, 64)      0         \n",
            "_________________________________________________________________\n",
            "conv1_2 (Conv2D)             (None, 300, 300, 64)      36928     \n",
            "_________________________________________________________________\n",
            "max_pooling2d_11 (MaxPooling (None, 150, 150, 64)      0         \n",
            "_________________________________________________________________\n",
            "zero_padding2d_29 (ZeroPaddi (None, 152, 152, 64)      0         \n",
            "_________________________________________________________________\n",
            "conv2_1 (Conv2D)             (None, 150, 150, 128)     73856     \n",
            "_________________________________________________________________\n",
            "zero_padding2d_30 (ZeroPaddi (None, 152, 152, 128)     0         \n",
            "_________________________________________________________________\n",
            "conv2_2 (Conv2D)             (None, 150, 150, 128)     147584    \n",
            "_________________________________________________________________\n",
            "max_pooling2d_12 (MaxPooling (None, 75, 75, 128)       0         \n",
            "_________________________________________________________________\n",
            "zero_padding2d_31 (ZeroPaddi (None, 77, 77, 128)       0         \n",
            "_________________________________________________________________\n",
            "conv3_1 (Conv2D)             (None, 75, 75, 256)       295168    \n",
            "_________________________________________________________________\n",
            "zero_padding2d_32 (ZeroPaddi (None, 77, 77, 256)       0         \n",
            "_________________________________________________________________\n",
            "conv3_2 (Conv2D)             (None, 75, 75, 256)       590080    \n",
            "_________________________________________________________________\n",
            "zero_padding2d_33 (ZeroPaddi (None, 77, 77, 256)       0         \n",
            "_________________________________________________________________\n",
            "conv3_3 (Conv2D)             (None, 75, 75, 256)       590080    \n",
            "_________________________________________________________________\n",
            "max_pooling2d_13 (MaxPooling (None, 37, 37, 256)       0         \n",
            "_________________________________________________________________\n",
            "zero_padding2d_34 (ZeroPaddi (None, 39, 39, 256)       0         \n",
            "_________________________________________________________________\n",
            "conv4_1 (Conv2D)             (None, 37, 37, 512)       1180160   \n",
            "_________________________________________________________________\n",
            "zero_padding2d_35 (ZeroPaddi (None, 39, 39, 512)       0         \n",
            "_________________________________________________________________\n",
            "conv4_2 (Conv2D)             (None, 37, 37, 512)       2359808   \n",
            "_________________________________________________________________\n",
            "zero_padding2d_36 (ZeroPaddi (None, 39, 39, 512)       0         \n",
            "_________________________________________________________________\n",
            "conv4_3 (Conv2D)             (None, 37, 37, 512)       2359808   \n",
            "_________________________________________________________________\n",
            "max_pooling2d_14 (MaxPooling (None, 18, 18, 512)       0         \n",
            "_________________________________________________________________\n",
            "zero_padding2d_37 (ZeroPaddi (None, 20, 20, 512)       0         \n",
            "_________________________________________________________________\n",
            "conv5_1 (Conv2D)             (None, 18, 18, 512)       2359808   \n",
            "_________________________________________________________________\n",
            "zero_padding2d_38 (ZeroPaddi (None, 20, 20, 512)       0         \n",
            "_________________________________________________________________\n",
            "conv5_2 (Conv2D)             (None, 18, 18, 512)       2359808   \n",
            "_________________________________________________________________\n",
            "zero_padding2d_39 (ZeroPaddi (None, 20, 20, 512)       0         \n",
            "_________________________________________________________________\n",
            "conv5_3 (Conv2D)             (None, 18, 18, 512)       2359808   \n",
            "_________________________________________________________________\n",
            "max_pooling2d_15 (MaxPooling (None, 9, 9, 512)         0         \n",
            "_________________________________________________________________\n",
            "flatten_3 (Flatten)          (None, 41472)             0         \n",
            "_________________________________________________________________\n",
            "dense_5 (Dense)              (None, 4096)              169873408 \n",
            "_________________________________________________________________\n",
            "dropout_5 (Dropout)          (None, 4096)              0         \n",
            "_________________________________________________________________\n",
            "dense_6 (Dense)              (None, 4096)              16781312  \n",
            "_________________________________________________________________\n",
            "dropout_6 (Dropout)          (None, 4096)              0         \n",
            "_________________________________________________________________\n",
            "predict (Dense)              (None, 129)               528513    \n",
            "=================================================================\n",
            "Total params: 201,897,921\n",
            "Trainable params: 201,897,921\n",
            "Non-trainable params: 0\n",
            "_________________________________________________________________\n"
          ],
          "name": "stdout"
        }
      ]
    },
    {
      "metadata": {
        "id": "Odf5KdmNqnvN",
        "colab_type": "code",
        "colab": {
          "autoexec": {
            "startup": false,
            "wait_interval": 0
          }
        }
      },
      "cell_type": "code",
      "source": [
        "train_path=\"iMaterialist/train_dataset/\"\n",
        "test_path=\"iMaterialist/validation_dataset/\"\n",
        "#train_dataset_name = 'train_1'\n",
        "test_dataset_name = 'validation_last'"
      ],
      "execution_count": 0,
      "outputs": []
    },
    {
      "metadata": {
        "id": "m1jwwd5xKdVv",
        "colab_type": "code",
        "colab": {
          "autoexec": {
            "startup": false,
            "wait_interval": 0
          }
        }
      },
      "cell_type": "code",
      "source": [
        "start = time.time()\n",
        "load_batch_size = 1000\n",
        "\n",
        "for dataset_number in range (1,10):\n",
        "  train_dataset_name = \"train_{}\".format(dataset_number)\n",
        "  for batch in range(load_batch_size,5001,load_batch_size):\n",
        "    \n",
        "    x_train, y_train = load_trainDS(train_path, train_dataset_name)\n",
        "    #x_test, y_test  = load_testDS(test_path, test_dataset_name)\n",
        "\n",
        "    x_train = x_train/255\n",
        "    #x_test = x_test/255\n",
        "\n",
        "    y_train = convert_to_one_hot(y_train, 129).T\n",
        "    #y_test = convert_to_one_hot(y_test, 129).T\n",
        "    \n",
        "    print('\\nTraining dataset {}'.format(dataset_number))\n",
        "    print(\"\\n*****Training batch# {}\".format(batch)+\"*****\\n\")\n",
        "    model.fit(x_train, y_train, epochs = 20, batch_size = 10)\n",
        "    print('\\n-------------------------- Elapsed time: {} --------------------------'.format(elapsed(start)))\n",
        "    model.save('iMaterlialist-Keras-VGGNet-{}.h5'.format(dataset_number))\n",
        "    print('\\nCheckpoint saved. Elapsed time: {}'.format(elapsed(start)))"
      ],
      "execution_count": 0,
      "outputs": []
    },
    {
      "metadata": {
        "id": "KIMPB67bku_b",
        "colab_type": "code",
        "colab": {
          "autoexec": {
            "startup": false,
            "wait_interval": 0
          }
        }
      },
      "cell_type": "code",
      "source": [
        ""
      ],
      "execution_count": 0,
      "outputs": []
    }
  ]
}