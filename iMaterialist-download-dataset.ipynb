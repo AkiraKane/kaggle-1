{
 "cells": [
  {
   "cell_type": "markdown",
   "metadata": {},
   "source": [
    "\n",
    "\n",
    "# iMaterialist Challenge (Furniture) at FGVC5\n",
    "\n",
    "### TFNW Kaggle Team\n",
    "\n",
    "#### Download dataset\n",
    "\n",
    "https://www.kaggle.com/c/imaterialist-challenge-furniture-2018\n",
    "\n",
    "@alkari"
   ]
  },
  {
   "cell_type": "code",
   "execution_count": null,
   "metadata": {},
   "outputs": [],
   "source": [
    "import numpy as np\n",
    "import h5py, json, time\n",
    "from PIL import Image\n",
    "import requests\n",
    "from io import BytesIO, StringIO\n"
   ]
  },
  {
   "cell_type": "code",
   "execution_count": null,
   "metadata": {},
   "outputs": [],
   "source": [
    "def load_dataset(json_url, verbose = False):\n",
    "    \"\"\" Load the training dataset \"\"\"\n",
    "    data_set = json.load(BytesIO(requests.get(json_url).content))\n",
    "    images = []\n",
    "    labels = []\n",
    "    size = (300, 300)\n",
    "    number_of_images = 500\n",
    "    # number_of_images = len(data_set['images'])\n",
    "    for i in range(number_of_images): # Test with the first few images\n",
    "        image_url = data_set['images'][i]['url'][0]\n",
    "        label_id = data_set['annotations'][i]['label_id']\n",
    "\n",
    "        # Download, resize and convert images to arrays\n",
    "        try:\n",
    "            response = requests.get(image_url, timeout=3)\n",
    "            image = Image.open(BytesIO(response.content))\n",
    "            image = image.resize(size, resample=Image.LANCZOS)\n",
    "            image = np.asarray(image)\n",
    "            assert image.shape == (300,300,3)\n",
    "        except Exception as ex:\n",
    "            print(ex)\n",
    "            continue\n",
    "        \n",
    "        # if bad image, skip\n",
    "        if np.any(image == None):\n",
    "            continue\n",
    "        # add image to images list\n",
    "        images.append( image )\n",
    "        # add corresponding label to labels list\n",
    "        labels.append( label_id )\n",
    "        \n",
    "        # verbose\n",
    "        if verbose:\n",
    "            if i % 10 == 0:\n",
    "                print('{} Images added'.format(i))\n",
    "\n",
    "    return images, labels\n",
    "        "
   ]
  },
  {
   "cell_type": "markdown",
   "metadata": {},
   "source": [
    "**Repeat for train, eval and test**"
   ]
  },
  {
   "cell_type": "code",
   "execution_count": null,
   "metadata": {},
   "outputs": [],
   "source": [
    "# Dataset json url\n",
    "training_json_url ='https://storage.googleapis.com/kaggle-competitions-data/kaggle/8220/train.json?GoogleAccessId=web-data@kaggle-161607.iam.gserviceaccount.com&Expires=1522807799&Signature=ojjP5XT6qLRE7LZ8fVtiGFf7ziY5qa3HvRDELH85v6k0T79EHqGVnbU9nhlJ094St1vk3A72%2FoSlSGimoU4owbXlidnTvNyxnMgfsVhXj0hCr9KsljE%2Fgtaf110j8ISqLQUqIs9Dv4vBIbh5QCMsyjnRTWe0pUHY9CbrEMw8KdrWQMoyk%2FT%2BkW6bSFMEuLYc05RqoomI92qGHJ%2Brd8S2nlwtU9YfP986RlESKuUsc89kVF4CxzAgTJzGobWeCPr0GuvZanu27R%2BhUIRBY3vsRwrfE%2F5GEnoys4mEsiVjMpyG9BdAkXv4XO%2FcZLEjcAfyyZKdc4QxNnVfMAJOvgVqVQ%3D%3D'\n"
   ]
  },
  {
   "cell_type": "markdown",
   "metadata": {},
   "source": [
    "**Begin Download**"
   ]
  },
  {
   "cell_type": "code",
   "execution_count": null,
   "metadata": {},
   "outputs": [],
   "source": [
    "start = time.time()\n",
    "images, labels = load_dataset(training_json_url, True)\n",
    "print(\"time: {} seconds\".format(time.time()-start))"
   ]
  },
  {
   "cell_type": "markdown",
   "metadata": {},
   "source": [
    "**Save images and labels for each set**"
   ]
  },
  {
   "cell_type": "code",
   "execution_count": null,
   "metadata": {},
   "outputs": [],
   "source": [
    "with h5py.File('training_dataset_images.h5', 'w') as hf:\n",
    "    hf.create_dataset(\"training_dataset_images\",  data=images)"
   ]
  },
  {
   "cell_type": "code",
   "execution_count": null,
   "metadata": {},
   "outputs": [],
   "source": [
    "with h5py.File('training_dataset_labels.h5', 'w') as hf:\n",
    "    hf.create_dataset(\"training_dataset_labels\",  data=labels)"
   ]
  },
  {
   "cell_type": "markdown",
   "metadata": {},
   "source": [
    "**Verify**"
   ]
  },
  {
   "cell_type": "code",
   "execution_count": null,
   "metadata": {},
   "outputs": [],
   "source": [
    "images=np.asarray(images)\n",
    "images.shape"
   ]
  },
  {
   "cell_type": "markdown",
   "metadata": {},
   "source": [
    "# Load dataset from disk\n",
    "\n"
   ]
  },
  {
   "cell_type": "code",
   "execution_count": null,
   "metadata": {},
   "outputs": [],
   "source": [
    "# To read h5 file into memory\n",
    "with h5py.File('training_dataset_images.h5', 'r') as hf:\n",
    "    data = hf['training_dataset_images'][:]\n",
    "    print(data.shape)"
   ]
  },
  {
   "cell_type": "code",
   "execution_count": null,
   "metadata": {},
   "outputs": [],
   "source": [
    "# To save an image to disk-\n",
    "index = 8 # Select a random image\n",
    "img = Image.fromarray(np.uint8(data[index]))\n",
    "img.save(\"image{}.png\".format(index))"
   ]
  },
  {
   "cell_type": "code",
   "execution_count": null,
   "metadata": {},
   "outputs": [],
   "source": []
  },
  {
   "cell_type": "code",
   "execution_count": null,
   "metadata": {},
   "outputs": [],
   "source": []
  },
  {
   "cell_type": "markdown",
   "metadata": {},
   "source": [
    "# Backup"
   ]
  },
  {
   "cell_type": "code",
   "execution_count": null,
   "metadata": {},
   "outputs": [],
   "source": [
    "# Example url load\n",
    "URLS = ['http://a.vpimg4.com/upload/merchandise/287883/QQI-390870207-1.jpg', 'http://a.vpimg4.com/upload/merchandise/287883/QQI-390870207-1.jpg']\n",
    "\n",
    "response = requests.get(URLS[0])\n",
    "img = np.asarray(Image.open(BytesIO(response.content)))"
   ]
  },
  {
   "cell_type": "code",
   "execution_count": null,
   "metadata": {},
   "outputs": [],
   "source": [
    "# test an image\n",
    "train_image_url = train_set['images'][0]['url']\n",
    "train_label_id = train_set['annotations'][0]['label_id']\n",
    "train_image_id = train_set['images'][0]['image_id']\n",
    "print( train_image_url, train_image_id, train_label_id)"
   ]
  },
  {
   "cell_type": "code",
   "execution_count": null,
   "metadata": {},
   "outputs": [],
   "source": []
  }
 ],
 "metadata": {
  "kernelspec": {
   "display_name": "Python 3",
   "language": "python",
   "name": "python3"
  },
  "language_info": {
   "codemirror_mode": {
    "name": "ipython",
    "version": 3
   },
   "file_extension": ".py",
   "mimetype": "text/x-python",
   "name": "python",
   "nbconvert_exporter": "python",
   "pygments_lexer": "ipython3",
   "version": "3.6.2"
  }
 },
 "nbformat": 4,
 "nbformat_minor": 2
}
